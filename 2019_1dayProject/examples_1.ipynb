{
 "cells": [
  {
   "cell_type": "code",
   "execution_count": 1,
   "metadata": {},
   "outputs": [],
   "source": [
    "#  '더보기' 버튼 1개만 클릭하기 1  : find_element_by_id() 메소드 이용.\n",
    "\n",
    "from selenium import webdriver\n",
    "# 다운받은 Chorme Driver 위치를 넣는다.\n",
    "# 작성자는 C드라이브/chromedriver_win32 디렉토리에 chromedriver이 저장되어있다.\n",
    "driver=webdriver.Chrome('C:/chromedriver_win32/chromedriver')\n",
    "\n",
    "#암묵적으로 모든 웹 자원의 로드를 위해 0.5초를 기다린다.\n",
    "driver.implicitly_wait(0.5)\n",
    "\n",
    "#url 접근(다이닝코드-안서동)\n",
    "driver.get('https://www.diningcode.com/list.php?query=%EC%95%88%EC%84%9C%EB%8F%99')\n",
    "\n",
    "# id가 div_list_more 인 element를 클릭한다.\n",
    "driver.find_element_by_id('div_list_more').click()"
   ]
  },
  {
   "cell_type": "code",
   "execution_count": null,
   "metadata": {},
   "outputs": [],
   "source": [
    "#  '더보기' 버튼 1개만 클릭하기 1  : find_element_by_id() 메소드 이용.\n",
    "\n",
    "from selenium import webdriver\n",
    "# 다운받은 Chorme Driver 위치를 넣는다.\n",
    "# 작성자는 C드라이브/chromedriver_win32 디렉토리에 chromedriver이 저장되어있다.\n",
    "driver=webdriver.Chrome('C:/chromedriver_win32/chromedriver')\n",
    "\n",
    "#암묵적으로 모든 웹 자원의 로드를 위해 0.5초를 기다린다.\n",
    "driver.implicitly_wait(0.5)\n",
    "\n",
    "#url 접근(다이닝코드-안서동)\n",
    "driver.get('https://www.diningcode.com/list.php?query=%EC%95%88%EC%84%9C%EB%8F%99')\n",
    "\n",
    "# 현재문서에서 a태그의 속성href가 'JavaScript:getMoreList();' 인 element를 클릭한다.\n",
    "driver.find_element_by_xpath('//a[@href=\"JavaScript:getMoreList();\"] ').click()"
   ]
  }
 ],
 "metadata": {
  "kernelspec": {
   "display_name": "Python 3",
   "language": "python",
   "name": "python3"
  },
  "language_info": {
   "codemirror_mode": {
    "name": "ipython",
    "version": 3
   },
   "file_extension": ".py",
   "mimetype": "text/x-python",
   "name": "python",
   "nbconvert_exporter": "python",
   "pygments_lexer": "ipython3",
   "version": "3.6.7"
  }
 },
 "nbformat": 4,
 "nbformat_minor": 2
}
