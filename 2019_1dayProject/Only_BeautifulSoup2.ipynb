{
 "cells": [
  {
   "cell_type": "code",
   "execution_count": 1,
   "metadata": {},
   "outputs": [
    {
     "name": "stdout",
     "output_type": "stream",
     "text": [
      "[1, '팔팔닭떡볶이', '신부동충청남도 천안시 동남구 신부동 459-9', '떡볶이, 즉석떡볶이, 차돌박이떡볶이', '57점']\n",
      "[2, '정통옥수사', '신부동충청남도 천안시 동남구 신부동 454-8', '칼국수, 수육, 김치', '55점']\n",
      "[3, '다락마을', '신부동충청남도 천안시 동남구 신부동 462-6', '스테이크, 파스타, 찹스테이크', '53점']\n",
      "[4, '은화수식당', '신부동충청남도 천안시 동남구 신부동 459-1', '돈까스, 카레', '53점']\n",
      "[5, '잇플레이트', '신부동충청남도 천안시 동남구 신부동 462-12', '샐러드, 까르보나라, 필라프', '53점']\n",
      "[6, '장칼국수', '신부동충청남도 천안시 동남구 신부동 750', '칼국수, 돈까스, 장칼국수', '53점']\n",
      "[7, '유생촌', '천안충청남도 천안시 동남구 신부동 246-4', '돈까스, 무한리필돈까스', '52점']\n",
      "[8, '닭포', '신부동충청남도 천안시 동남구 신부동 785', '닭, 계란찜, 주먹밥', '52점']\n",
      "[9, '제이의 꽃다방', '신부동충청남도 천안시 동남구 신부동 379', '꽃다방, 일본가정식, 카페', '52점']\n",
      "[10, '시골애 신부점', '신부동충청남도 천안시 동남구 신부동 474-1', '낙지볶음, 청국장, 낙지', '52점']\n"
     ]
    }
   ],
   "source": [
    "import requests\n",
    "from bs4 import BeautifulSoup\n",
    "\n",
    "# 가져올 홈페이지 url\n",
    "# Dining Code (신부동)\n",
    "url='https://www.diningcode.com/list.php?query=신부동'\n",
    "\n",
    "# request를 이용해서 url의 html 파일을 가져온다.\n",
    "html = requests.get(url) \n",
    "\n",
    "#가져온 html 파일을 html parser를 통해서 정리한다.\n",
    "soup = BeautifulSoup(html.text, \"html.parser\") \n",
    "\n",
    "name_list=soup.findAll(\"span\",attrs={\"class\":\"btxt\"}) # ' '(스페이스바) 다음부터 가게이름시작점.\n",
    "address_list=soup.findAll(\"span\",attrs={\"class\":\"ctxt\"}) #홀수만\n",
    "menu_list=soup.findAll(\"span\",attrs={\"class\":\"stxt\"})\n",
    "score_list=soup.findAll(\"span\",attrs={\"class\":\"point\"})\n",
    "\n",
    "Names, Address, Menu, Score=[],[],[],[]\n",
    "for name in name_list:\n",
    "    name2=name.get_text()\n",
    "    Names.append(name2[name2.index(' ')+1:])\n",
    "\n",
    "for address in address_list:\n",
    "    idx=address_list.index(address)\n",
    "    #print(idx)\n",
    "    if idx%2==1:\n",
    "        Address.append(address.get_text())\n",
    "\n",
    "for menu in menu_list:\n",
    "    Menu.append(menu.get_text())\n",
    "\n",
    "for score in score_list:\n",
    "    Score.append(score.get_text())\n",
    "    \n",
    "# Names, Address,Menu, Score 리스트 길이가 모두 같다고 할때..\n",
    "\n",
    "store_info=[]\n",
    "for i in range(len(Names)):\n",
    "    store_info.append([ (i+1),Names[i], Address[i], Menu[i], Score[i]])\n",
    "\n",
    "for i in range(len(Names)):\n",
    "    print(store_info[i])"
   ]
  },
  {
   "cell_type": "code",
   "execution_count": 2,
   "metadata": {},
   "outputs": [
    {
     "name": "stdout",
     "output_type": "stream",
     "text": [
      "[1, '짬뽕지존', '천안충청남도 천안시 서북구 두정동 780', '짬뽕, 탕수육, 찹쌀탕수육', '64점']\n",
      "[2, '쿠우쿠우 천안점', '천안충청남도 천안시 서북구 두정동 1293', '초밥, 초밥뷔페, 뷔페', '52점']\n",
      "[3, '꼽', '두정동충청남도 천안시 서북구 두정동 930-1', '곱창, 볶음밥, 대창', '51점']\n",
      "[4, '두꺼비식당', '두정동충청남도 천안시 서북구 두정동 827', '등갈비, 곤드레밥, 메밀전', '38점']\n",
      "[5, '카페르블랑', '두정동충청남도 천안시 서북구 두정동 808', '카페, 커피', '34점']\n",
      "[6, '통삼국', '두정동충청남도 천안시 서북구 두정동 645', '삼겹살, 목살, 꽃목살', '34점']\n",
      "[7, '소소화', '두정동충청남도 천안시 서북구 두정동 931', '고기집, 삼겹살, 와인', '34점']\n",
      "[8, '조선옥', '천안충청남도 천안시 서북구 두정동 1538', '간장게장, 게장, 불낙전골', '30점']\n",
      "[9, '맛찬들왕소금구이', '두정동충남 천안시 서북구 두정동 808', '삼겹살, 한우, 목살', '30점']\n",
      "[10, '항아리보쌈', '두정동충청남도 천안시 서북구 두정동 909', '보쌈, 쟁반국수, 굴보쌈', '27점']\n"
     ]
    }
   ],
   "source": [
    "import requests\n",
    "from bs4 import BeautifulSoup\n",
    "\n",
    "# 가져올 홈페이지 url\n",
    "# Dining Code (두정동)\n",
    "url='https://www.diningcode.com/list.php?query=두정동'\n",
    "\n",
    "# request를 이용해서 url의 html 파일을 가져온다.\n",
    "html = requests.get(url) \n",
    "\n",
    "#가져온 html 파일을 html parser를 통해서 정리한다.\n",
    "soup = BeautifulSoup(html.text, \"html.parser\") \n",
    "\n",
    "name_list=soup.findAll(\"span\",attrs={\"class\":\"btxt\"}) # ' '(스페이스바) 다음부터 가게이름시작점.\n",
    "address_list=soup.findAll(\"span\",attrs={\"class\":\"ctxt\"}) #홀수만\n",
    "menu_list=soup.findAll(\"span\",attrs={\"class\":\"stxt\"})\n",
    "score_list=soup.findAll(\"span\",attrs={\"class\":\"point\"})\n",
    "\n",
    "Names, Address, Menu, Score=[],[],[],[]\n",
    "for name in name_list:\n",
    "    name2=name.get_text()\n",
    "    Names.append(name2[name2.index(' ')+1:])\n",
    "\n",
    "for address in address_list:\n",
    "    idx=address_list.index(address)\n",
    "    #print(idx)\n",
    "    if idx%2==1:\n",
    "        Address.append(address.get_text())\n",
    "\n",
    "for menu in menu_list:\n",
    "    Menu.append(menu.get_text())\n",
    "\n",
    "for score in score_list:\n",
    "    Score.append(score.get_text())\n",
    "    \n",
    "# Names, Address,Menu, Score 리스트 길이가 모두 같다고 할때..\n",
    "\n",
    "store_info=[]\n",
    "for i in range(len(Names)):\n",
    "    store_info.append([ (i+1),Names[i], Address[i], Menu[i], Score[i]])\n",
    "\n",
    "for i in range(len(Names)):\n",
    "    print(store_info[i])"
   ]
  },
  {
   "cell_type": "code",
   "execution_count": null,
   "metadata": {},
   "outputs": [],
   "source": []
  }
 ],
 "metadata": {
  "kernelspec": {
   "display_name": "Python 3",
   "language": "python",
   "name": "python3"
  },
  "language_info": {
   "codemirror_mode": {
    "name": "ipython",
    "version": 3
   },
   "file_extension": ".py",
   "mimetype": "text/x-python",
   "name": "python",
   "nbconvert_exporter": "python",
   "pygments_lexer": "ipython3",
   "version": "3.6.7"
  }
 },
 "nbformat": 4,
 "nbformat_minor": 2
}
