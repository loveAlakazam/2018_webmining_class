#  '더보기' 버튼 1개만 클릭하기 1  : find_element_by_id() 메소드 이용.

from selenium import webdriver
# 다운받은 Chorme Driver 위치를 넣는다.
# 작성자는 C드라이브/chromedriver_win32 디렉토리에 chromedriver이 저장되어있다.
driver=webdriver.Chrome('C:/chromedriver_win32/chromedriver')

#암묵적으로 모든 웹 자원의 로드를 위해 0.5초를 기다린다.
driver.implicitly_wait(0.5)

#url 접근(다이닝코드-안서동)
driver.get('https://www.diningcode.com/list.php?query=%EC%95%88%EC%84%9C%EB%8F%99')

# id가 div_list_more 인 element를 클릭한다.
driver.find_element_by_id('div_list_more').click()
